{
 "cells": [
  {
   "cell_type": "code",
   "execution_count": 231,
   "metadata": {},
   "outputs": [],
   "source": [
    "import pandas as pd\n",
    "import numpy as np\n",
    "from scipy.stats import pearsonr"
   ]
  },
  {
   "cell_type": "markdown",
   "metadata": {},
   "source": [
    "## Food Safety Inspections"
   ]
  },
  {
   "cell_type": "markdown",
   "metadata": {},
   "source": [
    "First we want to review and analyze the data. I am using python3 along with this jupyter notebook, package libraries pandas dataframe, numpy and plotly. Initially we want to see what features/columns overlap, which are one off, and which aren't salient or useful. I started out by loading the csv files and reviewing the feature and column names."
   ]
  },
  {
   "cell_type": "code",
   "execution_count": null,
   "metadata": {},
   "outputs": [],
   "source": [
    "# Load the Data\n",
    "#df_ny = pd.read_csv('NY.csv', low_memory=False)\n",
    "#df_chicago = pd.read_csv('Chicago.csv', low_memory=False)\n",
    "#df_vegas = pd.read_csv('Las_Vegas.csv', low_memory=False)\n",
    "\n",
    "df_ny = pd.read_csv('https://s3-us-west-2.amazonaws.com/prototype.data/NY.csv', low_memory=False)\n",
    "df_chicago = pd.read_csv('https://s3-us-west-2.amazonaws.com/prototype.data/Chicago.csv', low_memory=False)\n",
    "df_vegas = pd.read_csv('https://s3-us-west-2.amazonaws.com/prototype.data/Las_Vegas.csv', low_memory=False)"
   ]
  },
  {
   "cell_type": "code",
   "execution_count": 750,
   "metadata": {},
   "outputs": [
    {
     "data": {
      "text/html": [
       "<div>\n",
       "<style scoped>\n",
       "    .dataframe tbody tr th:only-of-type {\n",
       "        vertical-align: middle;\n",
       "    }\n",
       "\n",
       "    .dataframe tbody tr th {\n",
       "        vertical-align: top;\n",
       "    }\n",
       "\n",
       "    .dataframe thead th {\n",
       "        text-align: right;\n",
       "    }\n",
       "</style>\n",
       "<table border=\"1\" class=\"dataframe\">\n",
       "  <thead>\n",
       "    <tr style=\"text-align: right;\">\n",
       "      <th></th>\n",
       "      <th>Count</th>\n",
       "    </tr>\n",
       "  </thead>\n",
       "  <tbody>\n",
       "    <tr>\n",
       "      <th>NY</th>\n",
       "      <td>383119</td>\n",
       "    </tr>\n",
       "    <tr>\n",
       "      <th>Chicago</th>\n",
       "      <td>188205</td>\n",
       "    </tr>\n",
       "    <tr>\n",
       "      <th>Las Vegas</th>\n",
       "      <td>180136</td>\n",
       "    </tr>\n",
       "  </tbody>\n",
       "</table>\n",
       "</div>"
      ],
      "text/plain": [
       "            Count\n",
       "NY         383119\n",
       "Chicago    188205\n",
       "Las Vegas  180136"
      ]
     },
     "execution_count": 750,
     "metadata": {},
     "output_type": "execute_result"
    }
   ],
   "source": [
    "# Count data size\n",
    "counts = {\"Index\":[\"NY\", \"Chicago\", \"Las Vegas\"], \"Count\": [len(df_ny.index), len(df_chicago.index), len(df_vegas.index)]}\n",
    "records = pd.DataFrame(counts)\n",
    "records.set_index('Index',inplace=True)\n",
    "records.index.name = None\n",
    "records"
   ]
  },
  {
   "cell_type": "code",
   "execution_count": 751,
   "metadata": {},
   "outputs": [
    {
     "data": {
      "text/html": [
       "<div>\n",
       "<style scoped>\n",
       "    .dataframe tbody tr th:only-of-type {\n",
       "        vertical-align: middle;\n",
       "    }\n",
       "\n",
       "    .dataframe tbody tr th {\n",
       "        vertical-align: top;\n",
       "    }\n",
       "\n",
       "    .dataframe thead th {\n",
       "        text-align: right;\n",
       "    }\n",
       "</style>\n",
       "<table border=\"1\" class=\"dataframe\">\n",
       "  <thead>\n",
       "    <tr style=\"text-align: right;\">\n",
       "      <th></th>\n",
       "      <th>NY</th>\n",
       "      <th>Chicago</th>\n",
       "      <th>Vegas</th>\n",
       "    </tr>\n",
       "  </thead>\n",
       "  <tbody>\n",
       "    <tr>\n",
       "      <th>0</th>\n",
       "      <td>CAMIS</td>\n",
       "      <td>Inspection ID</td>\n",
       "      <td>Serial Number</td>\n",
       "    </tr>\n",
       "    <tr>\n",
       "      <th>1</th>\n",
       "      <td>DBA</td>\n",
       "      <td>DBA Name</td>\n",
       "      <td>Permit Number</td>\n",
       "    </tr>\n",
       "    <tr>\n",
       "      <th>2</th>\n",
       "      <td>BORO</td>\n",
       "      <td>AKA Name</td>\n",
       "      <td>Restaurant Name</td>\n",
       "    </tr>\n",
       "    <tr>\n",
       "      <th>3</th>\n",
       "      <td>BUILDING</td>\n",
       "      <td>License #</td>\n",
       "      <td>Location Name</td>\n",
       "    </tr>\n",
       "    <tr>\n",
       "      <th>4</th>\n",
       "      <td>STREET</td>\n",
       "      <td>Facility Type</td>\n",
       "      <td>Category Name</td>\n",
       "    </tr>\n",
       "    <tr>\n",
       "      <th>5</th>\n",
       "      <td>ZIPCODE</td>\n",
       "      <td>Risk</td>\n",
       "      <td>Address</td>\n",
       "    </tr>\n",
       "    <tr>\n",
       "      <th>6</th>\n",
       "      <td>PHONE</td>\n",
       "      <td>Address</td>\n",
       "      <td>City</td>\n",
       "    </tr>\n",
       "    <tr>\n",
       "      <th>7</th>\n",
       "      <td>CUISINE DESCRIPTION</td>\n",
       "      <td>City</td>\n",
       "      <td>State</td>\n",
       "    </tr>\n",
       "    <tr>\n",
       "      <th>8</th>\n",
       "      <td>INSPECTION DATE</td>\n",
       "      <td>State</td>\n",
       "      <td>Zip</td>\n",
       "    </tr>\n",
       "    <tr>\n",
       "      <th>9</th>\n",
       "      <td>ACTION</td>\n",
       "      <td>Zip</td>\n",
       "      <td>Current Demerits</td>\n",
       "    </tr>\n",
       "    <tr>\n",
       "      <th>10</th>\n",
       "      <td>VIOLATION CODE</td>\n",
       "      <td>Inspection Date</td>\n",
       "      <td>Current Grade</td>\n",
       "    </tr>\n",
       "    <tr>\n",
       "      <th>11</th>\n",
       "      <td>VIOLATION DESCRIPTION</td>\n",
       "      <td>Inspection Type</td>\n",
       "      <td>Date Current</td>\n",
       "    </tr>\n",
       "    <tr>\n",
       "      <th>12</th>\n",
       "      <td>CRITICAL FLAG</td>\n",
       "      <td>Results</td>\n",
       "      <td>Inspection Date</td>\n",
       "    </tr>\n",
       "    <tr>\n",
       "      <th>13</th>\n",
       "      <td>SCORE</td>\n",
       "      <td>Violations</td>\n",
       "      <td>Inspection Time</td>\n",
       "    </tr>\n",
       "    <tr>\n",
       "      <th>14</th>\n",
       "      <td>GRADE</td>\n",
       "      <td>Latitude</td>\n",
       "      <td>Employee ID</td>\n",
       "    </tr>\n",
       "    <tr>\n",
       "      <th>15</th>\n",
       "      <td>GRADE DATE</td>\n",
       "      <td>Longitude</td>\n",
       "      <td>Inspection Type</td>\n",
       "    </tr>\n",
       "    <tr>\n",
       "      <th>16</th>\n",
       "      <td>RECORD DATE</td>\n",
       "      <td>Location</td>\n",
       "      <td>Inspection Demerits</td>\n",
       "    </tr>\n",
       "    <tr>\n",
       "      <th>17</th>\n",
       "      <td>INSPECTION TYPE</td>\n",
       "      <td>Historical Wards 2003-2015</td>\n",
       "      <td>Inspection Grade</td>\n",
       "    </tr>\n",
       "    <tr>\n",
       "      <th>18</th>\n",
       "      <td></td>\n",
       "      <td>Zip Codes</td>\n",
       "      <td>Permit Status</td>\n",
       "    </tr>\n",
       "    <tr>\n",
       "      <th>19</th>\n",
       "      <td></td>\n",
       "      <td>Community Areas</td>\n",
       "      <td>Inspection Result</td>\n",
       "    </tr>\n",
       "    <tr>\n",
       "      <th>20</th>\n",
       "      <td></td>\n",
       "      <td>Census Tracts</td>\n",
       "      <td>Violations</td>\n",
       "    </tr>\n",
       "    <tr>\n",
       "      <th>21</th>\n",
       "      <td></td>\n",
       "      <td>Wards</td>\n",
       "      <td>Record Updated</td>\n",
       "    </tr>\n",
       "    <tr>\n",
       "      <th>22</th>\n",
       "      <td></td>\n",
       "      <td></td>\n",
       "      <td>Location 1</td>\n",
       "    </tr>\n",
       "    <tr>\n",
       "      <th>23</th>\n",
       "      <td></td>\n",
       "      <td></td>\n",
       "      <td>Zip Codes</td>\n",
       "    </tr>\n",
       "  </tbody>\n",
       "</table>\n",
       "</div>"
      ],
      "text/plain": [
       "                       NY                     Chicago                Vegas\n",
       "0                   CAMIS               Inspection ID        Serial Number\n",
       "1                     DBA                    DBA Name        Permit Number\n",
       "2                    BORO                    AKA Name      Restaurant Name\n",
       "3                BUILDING                   License #        Location Name\n",
       "4                  STREET               Facility Type        Category Name\n",
       "5                 ZIPCODE                        Risk              Address\n",
       "6                   PHONE                     Address                 City\n",
       "7     CUISINE DESCRIPTION                        City                State\n",
       "8         INSPECTION DATE                       State                  Zip\n",
       "9                  ACTION                         Zip     Current Demerits\n",
       "10         VIOLATION CODE             Inspection Date        Current Grade\n",
       "11  VIOLATION DESCRIPTION             Inspection Type         Date Current\n",
       "12          CRITICAL FLAG                     Results      Inspection Date\n",
       "13                  SCORE                  Violations      Inspection Time\n",
       "14                  GRADE                    Latitude          Employee ID\n",
       "15             GRADE DATE                   Longitude      Inspection Type\n",
       "16            RECORD DATE                    Location  Inspection Demerits\n",
       "17        INSPECTION TYPE  Historical Wards 2003-2015     Inspection Grade\n",
       "18                                          Zip Codes        Permit Status\n",
       "19                                    Community Areas    Inspection Result\n",
       "20                                      Census Tracts           Violations\n",
       "21                                              Wards       Record Updated\n",
       "22                                                              Location 1\n",
       "23                                                               Zip Codes"
      ]
     },
     "execution_count": 751,
     "metadata": {},
     "output_type": "execute_result"
    }
   ],
   "source": [
    "# review feature labels\n",
    "col = {'NY':list(df_ny.columns.values) + [' ']*6,'Chicago':list(df_chicago.columns.values) + [' ']*2, 'Vegas':list(df_vegas.columns.values)}\n",
    "df_columns = pd.DataFrame(col)\n",
    "df_columns"
   ]
  },
  {
   "cell_type": "markdown",
   "metadata": {},
   "source": [
    "### Generate targets, both for violation counts and for grades for pass Fail"
   ]
  },
  {
   "cell_type": "code",
   "execution_count": 752,
   "metadata": {},
   "outputs": [],
   "source": [
    "df_chicago['Violations'] = df_chicago['Violations'].astype('str')\n",
    "df_chicago['Violations_List'] = df_chicago['Violations'].apply(lambda x: x.split('|'))\n",
    "df_chicago['Violations_Count'] = df_chicago.Violations_List.apply(lambda x: len(x))\n",
    "\n",
    "df_vegas['Violations'] = df_vegas['Violations'].astype('str')\n",
    "df_vegas['Violations_List'] = df_vegas['Violations'].apply(lambda x: x.split(','))\n",
    "df_vegas['Violations_Count'] = df_vegas.Violations_List.apply(lambda x: len(x))"
   ]
  },
  {
   "cell_type": "code",
   "execution_count": 753,
   "metadata": {},
   "outputs": [],
   "source": [
    "df_chicago['Grade'] = df_chicago['Results'].replace(['Pass','Pass w/ Conditions','Fail'],['A','C','F'])\n",
    "df_ny['Grade'] = df_ny['GRADE'].replace('P','F')\n",
    "df_vegas['Grade'] = df_vegas['Inspection Grade'].replace(['X','P'],['F','F'])\n",
    "\n",
    "# remove all labels that are not necessarily pass or fail\n",
    "Non_Grades = ['Z','X','P','Not Yet Graded','G','Not Ready','Out of Business','No Entry','Business Not Located','nan','O','a', 'N', 'b', 'S']\n",
    "for grade in Non_Grades:\n",
    "    df_ny.drop(df_ny[df_ny.Grade == grade].index, inplace=True)\n",
    "    df_chicago.drop(df_chicago[df_chicago.Grade == grade].index, inplace=True)\n",
    "    df_vegas.drop(df_vegas[df_vegas.Grade == grade].index, inplace=True)"
   ]
  },
  {
   "cell_type": "code",
   "execution_count": 754,
   "metadata": {},
   "outputs": [
    {
     "data": {
      "text/plain": [
       "Grade\n",
       "A    103899\n",
       "C     24095\n",
       "F     36273\n",
       "dtype: int64"
      ]
     },
     "execution_count": 754,
     "metadata": {},
     "output_type": "execute_result"
    }
   ],
   "source": [
    "df_chicago.groupby('Grade').size()"
   ]
  },
  {
   "cell_type": "markdown",
   "metadata": {},
   "source": [
    "delete non-salient data"
   ]
  },
  {
   "cell_type": "code",
   "execution_count": 711,
   "metadata": {},
   "outputs": [],
   "source": [
    "ny_delete = ['BORO','BUILDING','STREET','PHONE','INSPECTION DATE','GRADE DATE','VIOLATION CODE','RECORD DATE']\n",
    "df_ny = df_ny.drop(ny_delete,axis=1)"
   ]
  },
  {
   "cell_type": "code",
   "execution_count": 712,
   "metadata": {},
   "outputs": [],
   "source": [
    "chicago_delete = ['Inspection ID','AKA Name','City','State','Location','Latitude','Longitude','Community Areas','Census Tracts','Wards','Zip Codes','Historical Wards 2003-2015','Inspection Date','Violations_List']\n",
    "df_chicago = df_chicago.drop(chicago_delete,axis=1)"
   ]
  },
  {
   "cell_type": "code",
   "execution_count": 713,
   "metadata": {},
   "outputs": [],
   "source": [
    "vegas_delete = ['Serial Number','Restaurant Name','City','State','Date Current','Inspection Date','Inspection Time','Employee ID','Record Updated','Location 1','Zip Codes','Current Demerits','Violations_List']\n",
    "df_vegas = df_vegas.drop(vegas_delete,axis=1)"
   ]
  },
  {
   "cell_type": "code",
   "execution_count": 714,
   "metadata": {},
   "outputs": [
    {
     "data": {
      "text/html": [
       "<div>\n",
       "<style scoped>\n",
       "    .dataframe tbody tr th:only-of-type {\n",
       "        vertical-align: middle;\n",
       "    }\n",
       "\n",
       "    .dataframe tbody tr th {\n",
       "        vertical-align: top;\n",
       "    }\n",
       "\n",
       "    .dataframe thead th {\n",
       "        text-align: right;\n",
       "    }\n",
       "</style>\n",
       "<table border=\"1\" class=\"dataframe\">\n",
       "  <thead>\n",
       "    <tr style=\"text-align: right;\">\n",
       "      <th></th>\n",
       "      <th>NY</th>\n",
       "      <th>NY Uniques</th>\n",
       "      <th>Chicago</th>\n",
       "      <th>Chicago Uniques</th>\n",
       "      <th>Vegas</th>\n",
       "      <th>Vegas Uniques</th>\n",
       "    </tr>\n",
       "  </thead>\n",
       "  <tbody>\n",
       "    <tr>\n",
       "      <th>0</th>\n",
       "      <td>CAMIS</td>\n",
       "      <td>26758</td>\n",
       "      <td>DBA Name</td>\n",
       "      <td>23205</td>\n",
       "      <td>Permit Number</td>\n",
       "      <td>22742</td>\n",
       "    </tr>\n",
       "    <tr>\n",
       "      <th>1</th>\n",
       "      <td>DBA</td>\n",
       "      <td>20968</td>\n",
       "      <td>License #</td>\n",
       "      <td>31594</td>\n",
       "      <td>Location Name</td>\n",
       "      <td>11302</td>\n",
       "    </tr>\n",
       "    <tr>\n",
       "      <th>2</th>\n",
       "      <td>ZIPCODE</td>\n",
       "      <td>229</td>\n",
       "      <td>Facility Type</td>\n",
       "      <td>466</td>\n",
       "      <td>Category Name</td>\n",
       "      <td>30</td>\n",
       "    </tr>\n",
       "    <tr>\n",
       "      <th>3</th>\n",
       "      <td>CUISINE DESCRIPTION</td>\n",
       "      <td>84</td>\n",
       "      <td>Risk</td>\n",
       "      <td>5</td>\n",
       "      <td>Address</td>\n",
       "      <td>9673</td>\n",
       "    </tr>\n",
       "    <tr>\n",
       "      <th>4</th>\n",
       "      <td>ACTION</td>\n",
       "      <td>6</td>\n",
       "      <td>Address</td>\n",
       "      <td>16700</td>\n",
       "      <td>Zip</td>\n",
       "      <td>3557</td>\n",
       "    </tr>\n",
       "    <tr>\n",
       "      <th>5</th>\n",
       "      <td>VIOLATION DESCRIPTION</td>\n",
       "      <td>92</td>\n",
       "      <td>Zip</td>\n",
       "      <td>108</td>\n",
       "      <td>Current Grade</td>\n",
       "      <td>7</td>\n",
       "    </tr>\n",
       "    <tr>\n",
       "      <th>6</th>\n",
       "      <td>CRITICAL FLAG</td>\n",
       "      <td>3</td>\n",
       "      <td>Inspection Type</td>\n",
       "      <td>104</td>\n",
       "      <td>Inspection Type</td>\n",
       "      <td>4</td>\n",
       "    </tr>\n",
       "    <tr>\n",
       "      <th>7</th>\n",
       "      <td>SCORE</td>\n",
       "      <td>135</td>\n",
       "      <td>Results</td>\n",
       "      <td>3</td>\n",
       "      <td>Inspection Demerits</td>\n",
       "      <td>76</td>\n",
       "    </tr>\n",
       "    <tr>\n",
       "      <th>8</th>\n",
       "      <td>GRADE</td>\n",
       "      <td>5</td>\n",
       "      <td>Violations</td>\n",
       "      <td>136924</td>\n",
       "      <td>Inspection Grade</td>\n",
       "      <td>6</td>\n",
       "    </tr>\n",
       "    <tr>\n",
       "      <th>9</th>\n",
       "      <td>INSPECTION TYPE</td>\n",
       "      <td>33</td>\n",
       "      <td>Violations_Count</td>\n",
       "      <td>32</td>\n",
       "      <td>Permit Status</td>\n",
       "      <td>6</td>\n",
       "    </tr>\n",
       "    <tr>\n",
       "      <th>10</th>\n",
       "      <td>Grade</td>\n",
       "      <td>5</td>\n",
       "      <td>Grade</td>\n",
       "      <td>3</td>\n",
       "      <td>Inspection Result</td>\n",
       "      <td>24</td>\n",
       "    </tr>\n",
       "    <tr>\n",
       "      <th>11</th>\n",
       "      <td></td>\n",
       "      <td></td>\n",
       "      <td></td>\n",
       "      <td></td>\n",
       "      <td>Violations</td>\n",
       "      <td>38118</td>\n",
       "    </tr>\n",
       "    <tr>\n",
       "      <th>12</th>\n",
       "      <td></td>\n",
       "      <td></td>\n",
       "      <td></td>\n",
       "      <td></td>\n",
       "      <td>Violations_Count</td>\n",
       "      <td>31</td>\n",
       "    </tr>\n",
       "    <tr>\n",
       "      <th>13</th>\n",
       "      <td></td>\n",
       "      <td></td>\n",
       "      <td></td>\n",
       "      <td></td>\n",
       "      <td>Grade</td>\n",
       "      <td>5</td>\n",
       "    </tr>\n",
       "  </tbody>\n",
       "</table>\n",
       "</div>"
      ],
      "text/plain": [
       "                       NY NY Uniques           Chicago Chicago Uniques  \\\n",
       "0                   CAMIS      26758          DBA Name           23205   \n",
       "1                     DBA      20968         License #           31594   \n",
       "2                 ZIPCODE        229     Facility Type             466   \n",
       "3     CUISINE DESCRIPTION         84              Risk               5   \n",
       "4                  ACTION          6           Address           16700   \n",
       "5   VIOLATION DESCRIPTION         92               Zip             108   \n",
       "6           CRITICAL FLAG          3   Inspection Type             104   \n",
       "7                   SCORE        135           Results               3   \n",
       "8                   GRADE          5        Violations          136924   \n",
       "9         INSPECTION TYPE         33  Violations_Count              32   \n",
       "10                  Grade          5             Grade               3   \n",
       "11                                                                       \n",
       "12                                                                       \n",
       "13                                                                       \n",
       "\n",
       "                  Vegas  Vegas Uniques  \n",
       "0         Permit Number          22742  \n",
       "1         Location Name          11302  \n",
       "2         Category Name             30  \n",
       "3               Address           9673  \n",
       "4                   Zip           3557  \n",
       "5         Current Grade              7  \n",
       "6       Inspection Type              4  \n",
       "7   Inspection Demerits             76  \n",
       "8      Inspection Grade              6  \n",
       "9         Permit Status              6  \n",
       "10    Inspection Result             24  \n",
       "11           Violations          38118  \n",
       "12     Violations_Count             31  \n",
       "13                Grade              5  "
      ]
     },
     "execution_count": 714,
     "metadata": {},
     "output_type": "execute_result"
    }
   ],
   "source": [
    "ny_uniques = [len(df_ny[x].unique()) for x in df_ny.columns.values]\n",
    "chicago_uniques = [len(df_chicago[x].unique()) for x in df_chicago.columns.values]\n",
    "vegas_uniques = [len(df_vegas[x].unique()) for x in df_vegas.columns.values]\n",
    "#print(len(ny_uniques))\n",
    "#print(len(chicago_uniques))\n",
    "#print(len(vegas_uniques))\n",
    "col = {'NY':list(df_ny.columns.values)+ [' ']*3,'NY Uniques':ny_uniques+ [' ']*3,'Chicago':list(df_chicago.columns.values) + [' ']*3, 'Chicago Uniques':chicago_uniques + [' ']*3,'Vegas':list(df_vegas.columns.values),'Vegas Uniques':vegas_uniques}\n",
    "df_columns = pd.DataFrame(col)\n",
    "df_columns"
   ]
  },
  {
   "cell_type": "code",
   "execution_count": 717,
   "metadata": {},
   "outputs": [
    {
     "data": {
      "text/html": [
       "<div>\n",
       "<style scoped>\n",
       "    .dataframe tbody tr th:only-of-type {\n",
       "        vertical-align: middle;\n",
       "    }\n",
       "\n",
       "    .dataframe tbody tr th {\n",
       "        vertical-align: top;\n",
       "    }\n",
       "\n",
       "    .dataframe thead th {\n",
       "        text-align: right;\n",
       "    }\n",
       "</style>\n",
       "<table border=\"1\" class=\"dataframe\">\n",
       "  <thead>\n",
       "    <tr style=\"text-align: right;\">\n",
       "      <th></th>\n",
       "      <th>Count</th>\n",
       "    </tr>\n",
       "  </thead>\n",
       "  <tbody>\n",
       "    <tr>\n",
       "      <th>NY</th>\n",
       "      <td>182706</td>\n",
       "    </tr>\n",
       "    <tr>\n",
       "      <th>Chicago</th>\n",
       "      <td>163512</td>\n",
       "    </tr>\n",
       "    <tr>\n",
       "      <th>Las Vegas</th>\n",
       "      <td>39592</td>\n",
       "    </tr>\n",
       "  </tbody>\n",
       "</table>\n",
       "</div>"
      ],
      "text/plain": [
       "            Count\n",
       "NY         182706\n",
       "Chicago    163512\n",
       "Las Vegas   39592"
      ]
     },
     "execution_count": 717,
     "metadata": {},
     "output_type": "execute_result"
    }
   ],
   "source": [
    "df_ny = df_ny.dropna()\n",
    "df_chicago = df_chicago.dropna()\n",
    "df_vegas = df_vegas.dropna() \n",
    "\n",
    "counts = {\"Index\":[\"NY\", \"Chicago\", \"Las Vegas\"], \"Count\": [len(df_ny.index), len(df_chicago.index), len(df_vegas.index)]}\n",
    "records = pd.DataFrame(counts)\n",
    "records.set_index('Index',inplace=True)\n",
    "records.index.name = None\n",
    "records"
   ]
  },
  {
   "cell_type": "markdown",
   "metadata": {},
   "source": []
  },
  {
   "cell_type": "markdown",
   "metadata": {},
   "source": []
  },
  {
   "cell_type": "code",
   "execution_count": 719,
   "metadata": {},
   "outputs": [],
   "source": [
    "from sklearn import preprocessing\n",
    "le = preprocessing.LabelEncoder()\n",
    "le.fit(df_chicago['Violations_Count'])\n",
    "#for column in ['DBA Name', 'License #', 'Facility Type', 'Risk', 'Address','Inspection Type','Results','Violations','Grade']:\n",
    "for column in ['DBA Name', 'License #', 'Facility Type', 'Risk', 'Address','Inspection Type','Results','Violations','Grade']:\n",
    "    #le.transform(df_chicago[column].astype(str)) \n",
    "    df_chicago[column] = le.fit_transform(df_chicago[column].astype(str))\n",
    "#df_chicago.columns.values"
   ]
  },
  {
   "cell_type": "code",
   "execution_count": 720,
   "metadata": {},
   "outputs": [
    {
     "name": "stdout",
     "output_type": "stream",
     "text": [
      "[0.19 0.21 0.04 0.01 0.18 0.15 0.17 0.05]\n"
     ]
    },
    {
     "data": {
      "image/png": "[encoded data removed]",
      "text/plain": [
       "<Figure size 432x288 with 1 Axes>"
      ]
     },
     "metadata": {
      "needs_background": "light"
     },
     "output_type": "display_data"
    }
   ],
   "source": [
    "X = df_chicago.iloc[:,0:7]\n",
    "X['Grade'] = df_chicago.iloc[:,-1]  #independent columns\n",
    "y = df_chicago.iloc[:,-2]    #target column i.e price range\n",
    "from sklearn.ensemble import RandomForestRegressor\n",
    "import matplotlib.pyplot as plt\n",
    "model = ExtraTreesClassifier()\n",
    "model.fit(X,y)\n",
    "print(model.feature_importances_) #use inbuilt class feature_importances of tree based classifiers\n",
    "#plot graph of feature importances for better visualization\n",
    "feat_importances = pd.Series(model.feature_importances_, index=X.columns)\n",
    "feat_importances.nlargest(10).plot(kind='barh')\n",
    "plt.show()"
   ]
  },
  {
   "cell_type": "code",
   "execution_count": 735,
   "metadata": {},
   "outputs": [
    {
     "data": {
      "text/plain": [
       "GridSearchCV(cv=5, error_score='raise',\n",
       "       estimator=AdaBoostRegressor(base_estimator=None, learning_rate=1.0, loss='linear',\n",
       "         n_estimators=50, random_state=None),\n",
       "       fit_params=None, iid=True, n_jobs=1,\n",
       "       param_grid={'n_estimators': [10, 100], 'learning_rate': [0.1, 0.2]},\n",
       "       pre_dispatch='2*n_jobs', refit=True, return_train_score='warn',\n",
       "       scoring=None, verbose=0)"
      ]
     },
     "execution_count": 735,
     "metadata": {},
     "output_type": "execute_result"
    }
   ],
   "source": [
    "from sklearn.model_selection import train_test_split\n",
    "from sklearn.model_selection import KFold\n",
    "X_train, X_test, y_train, y_test = train_test_split(X[:5000], y[:5000], test_size=0.4, random_state=0)\n",
    "from sklearn.model_selection import cross_validate\n",
    "from sklearn.metrics import confusion_matrix\n",
    "from sklearn.ensemble import RandomForestRegressor, AdaBoostRegressor\n",
    "from sklearn.model_selection import GridSearchCV\n",
    "from sklearn.linear_model import LogisticRegression\n",
    "clf = AdaBoostRegressor() #RandomForestRegressor(n_estimators=10, max_depth=100)\n",
    "#params = {'C': [0.1, 1., 10.]}\n",
    "#params = {'n_estimators': [10,100],'max_depth': [10,100]}\n",
    "params = {'n_estimators': [10,100],'learning_rate': [0.1, 0.2]}\n",
    "grid = GridSearchCV(estimator=clf, \n",
    "                    param_grid=params,\n",
    "                    cv=5)\n",
    "grid.fit(X_train, y_train)"
   ]
  },
  {
   "cell_type": "code",
   "execution_count": 736,
   "metadata": {},
   "outputs": [
    {
     "data": {
      "text/plain": [
       "0.4573941178119698"
      ]
     },
     "execution_count": 736,
     "metadata": {},
     "output_type": "execute_result"
    }
   ],
   "source": [
    "y_pred = grid.best_estimator_.predict(X_train)\n",
    "mse = np.mean((y_pred - y_train)**2)\n",
    "mse"
   ]
  },
  {
   "cell_type": "code",
   "execution_count": 737,
   "metadata": {},
   "outputs": [
    {
     "data": {
      "text/plain": [
       "0.43688160653900837"
      ]
     },
     "execution_count": 737,
     "metadata": {},
     "output_type": "execute_result"
    }
   ],
   "source": [
    "y_pred = grid.best_estimator_.predict(X_test)\n",
    "mse = np.mean((y_pred - y_test)**2)\n",
    "mse\n",
    "#grid.estimator.feature_importances_"
   ]
  },
  {
   "cell_type": "code",
   "execution_count": 739,
   "metadata": {},
   "outputs": [
    {
     "data": {
      "text/html": [
       "<div>\n",
       "<style scoped>\n",
       "    .dataframe tbody tr th:only-of-type {\n",
       "        vertical-align: middle;\n",
       "    }\n",
       "\n",
       "    .dataframe tbody tr th {\n",
       "        vertical-align: top;\n",
       "    }\n",
       "\n",
       "    .dataframe thead th {\n",
       "        text-align: right;\n",
       "    }\n",
       "</style>\n",
       "<table border=\"1\" class=\"dataframe\">\n",
       "  <thead>\n",
       "    <tr style=\"text-align: right;\">\n",
       "      <th></th>\n",
       "      <th>0</th>\n",
       "    </tr>\n",
       "  </thead>\n",
       "  <tbody>\n",
       "    <tr>\n",
       "      <th>DBA Name</th>\n",
       "      <td>0.138348</td>\n",
       "    </tr>\n",
       "    <tr>\n",
       "      <th>License #</th>\n",
       "      <td>0.058618</td>\n",
       "    </tr>\n",
       "    <tr>\n",
       "      <th>Facility Type</th>\n",
       "      <td>0.248602</td>\n",
       "    </tr>\n",
       "    <tr>\n",
       "      <th>Risk</th>\n",
       "      <td>0.000000</td>\n",
       "    </tr>\n",
       "    <tr>\n",
       "      <th>Address</th>\n",
       "      <td>0.102031</td>\n",
       "    </tr>\n",
       "    <tr>\n",
       "      <th>Zip</th>\n",
       "      <td>0.161385</td>\n",
       "    </tr>\n",
       "    <tr>\n",
       "      <th>Inspection Type</th>\n",
       "      <td>0.291016</td>\n",
       "    </tr>\n",
       "  </tbody>\n",
       "</table>\n",
       "</div>"
      ],
      "text/plain": [
       "                        0\n",
       "DBA Name         0.138348\n",
       "License #        0.058618\n",
       "Facility Type    0.248602\n",
       "Risk             0.000000\n",
       "Address          0.102031\n",
       "Zip              0.161385\n",
       "Inspection Type  0.291016"
      ]
     },
     "execution_count": 739,
     "metadata": {},
     "output_type": "execute_result"
    }
   ],
   "source": [
    "pd.DataFrame(grid.best_estimator_.feature_importances_, df_chicago.iloc[:,0:7].columns.values)"
   ]
  },
  {
   "cell_type": "code",
   "execution_count": 740,
   "metadata": {},
   "outputs": [
    {
     "name": "stdout",
     "output_type": "stream",
     "text": [
      "[0.18 0.21 0.04 0.01 0.18 0.15 0.23]\n"
     ]
    },
    {
     "data": {
      "image/png": "[encoded data removed]",
      "text/plain": [
       "<Figure size 432x288 with 1 Axes>"
      ]
     },
     "metadata": {
      "needs_background": "light"
     },
     "output_type": "display_data"
    }
   ],
   "source": [
    "X = df_chicago.iloc[:,0:7]\n",
    "y = df_chicago.iloc[:,-1]    #target column i.e price range\n",
    "from sklearn.ensemble import RandomForestClassifier\n",
    "import matplotlib.pyplot as plt\n",
    "model = ExtraTreesClassifier()\n",
    "model.fit(X,y)\n",
    "print(model.feature_importances_) #use inbuilt class feature_importances of tree based classifiers\n",
    "#plot graph of feature importances for better visualization\n",
    "feat_importances = pd.Series(model.feature_importances_, index=X.columns)\n",
    "feat_importances.nlargest(10).plot(kind='barh')\n",
    "plt.show()"
   ]
  },
  {
   "cell_type": "code",
   "execution_count": 741,
   "metadata": {},
   "outputs": [
    {
     "data": {
      "text/plain": [
       "GridSearchCV(cv=3, error_score='raise',\n",
       "       estimator=RandomForestClassifier(bootstrap=True, class_weight=None, criterion='gini',\n",
       "            max_depth=None, max_features='auto', max_leaf_nodes=None,\n",
       "            min_impurity_decrease=0.0, min_impurity_split=None,\n",
       "            min_samples_leaf=1, min_samples_split=2,\n",
       "            min_weight_fraction_leaf=0.0, n_estimators=10, n_jobs=1,\n",
       "            oob_score=False, random_state=None, verbose=0,\n",
       "            warm_start=False),\n",
       "       fit_params=None, iid=True, n_jobs=1,\n",
       "       param_grid={'n_estimators': [10, 100], 'max_depth': [100, 200]},\n",
       "       pre_dispatch='2*n_jobs', refit=True, return_train_score='warn',\n",
       "       scoring=None, verbose=0)"
      ]
     },
     "execution_count": 741,
     "metadata": {},
     "output_type": "execute_result"
    }
   ],
   "source": [
    "from sklearn.ensemble import RandomForestClassifier\n",
    "from sklearn.metrics import precision_score as precision\n",
    "from sklearn.metrics import recall_score as recall\n",
    "from sklearn.metrics import f1_score as f1\n",
    "\n",
    "clf = RandomForestClassifier()\n",
    "params = {'n_estimators': [10,100],'max_depth': [100, 200]}\n",
    "grid = GridSearchCV(estimator=clf, \n",
    "                    param_grid=params,\n",
    "                    cv=3)\n",
    "grid.fit(X_train, y_train)"
   ]
  },
  {
   "cell_type": "code",
   "execution_count": 742,
   "metadata": {},
   "outputs": [
    {
     "name": "stdout",
     "output_type": "stream",
     "text": [
      "0.5525\n",
      "0.5525\n",
      "0.5525\n"
     ]
    }
   ],
   "source": [
    "y_pred = grid.best_estimator_.predict(X_test)\n",
    "print(precision(y_test, y_pred, average='micro'))\n",
    "print(recall(y_test, y_pred, average='micro'))\n",
    "print(f1(y_test, y_pred, average='micro'))"
   ]
  },
  {
   "cell_type": "code",
   "execution_count": 743,
   "metadata": {},
   "outputs": [
    {
     "data": {
      "image/png": "[encoded data removed]",
      "text/plain": [
       "<Figure size 432x288 with 2 Axes>"
      ]
     },
     "metadata": {
      "needs_background": "light"
     },
     "output_type": "display_data"
    }
   ],
   "source": [
    "from sklearn.metrics import confusion_matrix\n",
    "title = 'Normalized confusion matrix'\n",
    "class_names = ['A', 'C', 'F']\n",
    "np.set_printoptions(precision=2)\n",
    "cm = confusion_matrix(y_test, y_pred)\n",
    "cm = cm.astype('float') / cm.sum(axis=1)[:, np.newaxis]\n",
    "fig, ax = plt.subplots()\n",
    "im = ax.imshow(cm, interpolation='nearest', cmap=plt.cm.Blues)\n",
    "ax.figure.colorbar(im, ax=ax)\n",
    "# We want to show all ticks...\n",
    "ax.set(xticks=np.arange(cm.shape[1]),\n",
    "        yticks=np.arange(cm.shape[0]),\n",
    "        # ... and label them with the respective list entries\n",
    "        xticklabels=class_names, yticklabels=class_names,\n",
    "        title=title,\n",
    "        ylabel='True label',\n",
    "        xlabel='Predicted label')    \n",
    "plt.setp(ax.get_xticklabels(), rotation=45, ha=\"right\",\n",
    "         rotation_mode=\"anchor\")\n",
    "\n",
    "# Loop over data dimensions and create text annotations.\n",
    "fmt = '.2f'\n",
    "thresh = cm.max() / 2.\n",
    "for i in range(cm.shape[0]):\n",
    "    for j in range(cm.shape[1]):\n",
    "        ax.text(j, i, format(cm[i, j], fmt),\n",
    "                ha=\"center\", va=\"center\",\n",
    "                color=\"white\" if cm[i, j] > thresh else \"black\")\n",
    "#fig.tight_layout()\n",
    "plt.show()"
   ]
  },
  {
   "cell_type": "markdown",
   "metadata": {},
   "source": [
    "### Potential Data Pooling/Bucketing & ETL\n",
    "\n",
    "| _               | NY Field            | Chicago Field    | Vegas Field         |\n",
    "|-----------------|---------------------|------------------|---------------------|\n",
    "| Location Type   | Cusines Description | Facility Type    | Category Name       |\n",
    "| Violations      | Aggregations        | Violations Regex | Inspection Demerits |\n",
    "| Inspection Type | Inspection Type     | Inspection Type  | Inspection Type     |\n",
    "| Past Grade      | Aggregations        | Aggregations     | Current Grade       |\n",
    "| Grade (Target)  | Grade               | Results          | Inspection Grade    |\n",
    "| Zip Code        | ZIPCODE             | Zip              | Zip                 |"
   ]
  },
  {
   "cell_type": "markdown",
   "metadata": {},
   "source": [
    "### Feature Engineering\n",
    "\n",
    "* Is the restaurant part of a chain? Name Appears more then one time.\n",
    "* Time, Season, Part of Day factor into inspection.\n",
    "* Nearby Restaurants with Pass/Fail Grades. \n",
    "* historical data, time series\n",
    "\n",
    "### External Data\n",
    "* Restaurant Age?\n",
    "* Reviews of the Location on Yelp or Google?\n",
    "* Population Density?\n",
    "* Revenue?"
   ]
  }
 ],
 "metadata": {
  "kernelspec": {
   "display_name": "Python 3",
   "language": "python",
   "name": "python3"
  },
  "language_info": {
   "codemirror_mode": {
    "name": "ipython",
    "version": 3
   },
   "file_extension": ".py",
   "mimetype": "text/x-python",
   "name": "python",
   "nbconvert_exporter": "python",
   "pygments_lexer": "ipython3",
   "version": "3.6.6"
  }
 },
 "nbformat": 4,
 "nbformat_minor": 2
}
